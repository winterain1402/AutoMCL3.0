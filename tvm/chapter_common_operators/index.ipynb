{
 "cells": [
  {
   "cell_type": "markdown",
   "metadata": {
    "origin_pos": 0
   },
   "source": [
    "# Common Operators\n",
    "\n",
    "In last chapter, we went over how to implement the basic expressions/operators using tvm operators. This chapter will further describe how to implement the typical operators we will encounter in the deep learning models.\n",
    "\n",
    ":begin_tab:toc\n",
    " - [broadcast_add](broadcast_add.ipynb)\n",
    " - [matmul](matmul.ipynb)\n",
    " - [conv](conv.ipynb)\n",
    " - [depthwise_conv](depthwise_conv.ipynb)\n",
    " - [pooling](pooling.ipynb)\n",
    " - [batch_norm](batch_norm.ipynb)\n",
    ":end_tab:\n"
   ]
  }
 ],
 "metadata": {
  "language_info": {
   "name": "python"
  }
 },
 "nbformat": 4,
 "nbformat_minor": 4
}